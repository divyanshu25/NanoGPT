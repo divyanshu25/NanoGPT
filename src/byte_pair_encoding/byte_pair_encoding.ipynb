{
 "cells": [
  {
   "cell_type": "code",
   "execution_count": 1,
   "id": "d9679c56",
   "metadata": {},
   "outputs": [],
   "source": [
    "text = \"\"\"\n",
    "\n",
    "The small modular reactor (SMR) is a class of small nuclear fission reactor, designed to be built in a factory, shipped to operational sites for installation, and then used to power buildings or other commercial operations. The term SMR refers to the size, capacity and modular construction. Reactor type and the nuclear processes may vary. Of the many SMR designs, the pressurized water reactor (PWR) is the most common. However, recently proposed SMR designs include generation IV, thermal-neutron reactors, fast-neutron reactors, molten salt, and gas-cooled reactor models.[1]\n",
    "\n",
    "Commercial SMRs have been designed to deliver an electrical power output as low as 5 MWe (electric) and up to 300 MWe per module. SMRs may also be designed purely for desalinization or facility heating rather than electricity. These SMRs are measured in megawatts thermal MWt. Many SMR designs rely on a modular system, allowing customers to simply add modules to achieve a desired electrical output.\n",
    "\n",
    "Small reactors were first designed mostly for military purposes in the 1950s to power submarines and ships with nuclear propulsion.[2] The thermal output of the largest naval reactor as of 2025 is estimated at 700 MWt (the A1B reactor).[3] No naval reactor meltdown or event resulting in the release of radioactive material has ever been disclosed in the United States, and in 2003 Admiral Frank Bowman testified that no such accident has ever occurred.[4]\n",
    "\n",
    "There has been strong interest from technology corporations in using SMRs to power data centers.\n",
    "\n",
    "\"\"\""
   ]
  },
  {
   "cell_type": "code",
   "execution_count": 13,
   "id": "6a076009",
   "metadata": {},
   "outputs": [
    {
     "name": "stdout",
     "output_type": "stream",
     "text": [
      "10 122 123\n"
     ]
    }
   ],
   "source": [
    "tokens = text.encode(\"utf-8\")\n",
    "tokens = list(map(int, tokens))\n",
    "\n",
    "min_token = min(tokens)\n",
    "max_token = max(tokens)\n",
    "curr_new_token = max_token + 1\n",
    "\n",
    "print(min_token, max_token, curr_new_token)"
   ]
  },
  {
   "cell_type": "code",
   "execution_count": 23,
   "id": "dc8eb19c",
   "metadata": {},
   "outputs": [],
   "source": [
    "import heapq\n",
    "\n",
    "count_map = {}\n",
    "\n",
    "for i in range(len(tokens) - 1):\n",
    "    count_map[(tokens[i], tokens[i+1])] = count_map.get((tokens[i], tokens[i+1]), 0) + 1\n"
   ]
  },
  {
   "cell_type": "code",
   "execution_count": 24,
   "id": "bc4b467f",
   "metadata": {},
   "outputs": [],
   "source": [
    "max_heap = []\n",
    "for k, v in count_map.items():\n",
    "    heapq.heappush(max_heap, (-v, k))"
   ]
  },
  {
   "cell_type": "code",
   "execution_count": 37,
   "id": "1ccb49ea",
   "metadata": {},
   "outputs": [],
   "source": [
    "\n",
    "for _ in range(63):\n",
    "    top_element = heapq.heappop(max_heap)\n",
    "    new_token_list = []\n",
    "    new_keys_added = []\n",
    "    for i in range(len(tokens) - 1):\n",
    "        if tokens[i] == top_element[1][0] and tokens[i+1] == top_element[1][1]:\n",
    "            new_token_list.append(curr_new_token)\n",
    "            if i + 2 < len(tokens):\n",
    "                count_map[(curr_new_token, tokens[i+2])] = count_map.get((curr_new_token, tokens[i+2]), 0) + 1\n",
    "                if count_map.get((curr_new_token, tokens[i+2]), 0) == 0:\n",
    "                    new_keys_added.append((curr_new_token, tokens[i+2]))\n",
    "            i += 1\n",
    "        else:\n",
    "            new_token_list.append(tokens[i])\n",
    "    tokens = new_token_list\n",
    "    for key in new_keys_added:\n",
    "        heapq.heappush(max_heap, (-count_map[key], key))\n",
    "    curr_new_token += 1\n",
    "    \n"
   ]
  },
  {
   "cell_type": "code",
   "execution_count": 38,
   "id": "7a4cb523",
   "metadata": {},
   "outputs": [
    {
     "data": {
      "text/plain": [
       "1"
      ]
     },
     "execution_count": 38,
     "metadata": {},
     "output_type": "execute_result"
    }
   ],
   "source": [
    "len(max_heap)"
   ]
  },
  {
   "cell_type": "code",
   "execution_count": 39,
   "id": "a7d816b6",
   "metadata": {},
   "outputs": [
    {
     "data": {
      "text/plain": [
       "[(-1, (430, 112))]"
      ]
     },
     "execution_count": 39,
     "metadata": {},
     "output_type": "execute_result"
    }
   ],
   "source": [
    "max_heap"
   ]
  },
  {
   "cell_type": "code",
   "execution_count": null,
   "id": "b929b3e5",
   "metadata": {},
   "outputs": [],
   "source": []
  }
 ],
 "metadata": {
  "kernelspec": {
   "display_name": ".venv",
   "language": "python",
   "name": "python3"
  },
  "language_info": {
   "codemirror_mode": {
    "name": "ipython",
    "version": 3
   },
   "file_extension": ".py",
   "mimetype": "text/x-python",
   "name": "python",
   "nbconvert_exporter": "python",
   "pygments_lexer": "ipython3",
   "version": "3.10.17"
  }
 },
 "nbformat": 4,
 "nbformat_minor": 5
}
